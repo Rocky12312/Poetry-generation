{
  "nbformat": 4,
  "nbformat_minor": 0,
  "metadata": {
    "colab": {
      "name": "langauge_generator.ipynb",
      "provenance": [],
      "authorship_tag": "ABX9TyN9dV/lHlbinysI9B6QpoHw",
      "include_colab_link": true
    },
    "kernelspec": {
      "name": "python3",
      "display_name": "Python 3"
    }
  },
  "cells": [
    {
      "cell_type": "markdown",
      "metadata": {
        "id": "view-in-github",
        "colab_type": "text"
      },
      "source": [
        "<a href=\"https://colab.research.google.com/github/Rocky12312/Poetry-generation/blob/master/langauge_generator.ipynb\" target=\"_parent\"><img src=\"https://colab.research.google.com/assets/colab-badge.svg\" alt=\"Open In Colab\"/></a>"
      ]
    },
    {
      "cell_type": "code",
      "metadata": {
        "id": "MKTGfO0Py0WU",
        "colab_type": "code",
        "outputId": "b4c8a8b8-ab1d-40b8-851b-a1fec0a29d5d",
        "colab": {
          "base_uri": "https://localhost:8080/",
          "height": 35
        }
      },
      "source": [
        "from google.colab import drive\n",
        "drive.mount(\"/content/drive\")"
      ],
      "execution_count": 1,
      "outputs": [
        {
          "output_type": "stream",
          "text": [
            "Drive already mounted at /content/drive; to attempt to forcibly remount, call drive.mount(\"/content/drive\", force_remount=True).\n"
          ],
          "name": "stdout"
        }
      ]
    },
    {
      "cell_type": "code",
      "metadata": {
        "id": "1fR26fv6zBHr",
        "colab_type": "code",
        "outputId": "5971d19b-fbb9-49fe-f72e-b6e4c8426ae8",
        "colab": {
          "base_uri": "https://localhost:8080/",
          "height": 35
        }
      },
      "source": [
        "cd drive/My\\ Drive/Poetry_generation"
      ],
      "execution_count": 2,
      "outputs": [
        {
          "output_type": "stream",
          "text": [
            "/content/drive/My Drive/Poetry_generation\n"
          ],
          "name": "stdout"
        }
      ]
    },
    {
      "cell_type": "code",
      "metadata": {
        "id": "u7cWKhn8zYlp",
        "colab_type": "code",
        "colab": {}
      },
      "source": [
        "import os\n",
        "import re\n",
        "import sys\n",
        "import string\n",
        "import numpy as np\n",
        "import pandas as pd\n",
        "import matplotlib.pyplot as plt\n",
        "%matplotlib inline"
      ],
      "execution_count": 0,
      "outputs": []
    },
    {
      "cell_type": "markdown",
      "metadata": {
        "id": "2s-wLm1I3Z9Z",
        "colab_type": "text"
      },
      "source": [
        "Reading the data from robert_frost.txt which contain poetry by Robert Frost including the most famous poems including \"Road Not Taken\""
      ]
    },
    {
      "cell_type": "code",
      "metadata": {
        "id": "dSfZx72u3YpD",
        "colab_type": "code",
        "colab": {}
      },
      "source": [
        "#Will contain the text sequence which we gonna be treating as input\n",
        "input_text = []\n",
        "#Will contain the text sequence which gonna be treating as output\n",
        "output_text = []\n",
        "with open(os.path.join(\"robert_frost.txt\")) as f:\n",
        "  for line in f:\n",
        "    line = line.rstrip()\n",
        "    if not line:\n",
        "      continue\n",
        "    #As we know that input will have a start of sentence token <sos> token and output will have a end of sentence <eos> token\n",
        "    input_line = \"<sos> \"+line\n",
        "    output_line = line+\" <eos>\"\n",
        "    #Appending the input in input_text and output in output_text which we will be using for the same purpose\n",
        "    input_text.append(input_line)\n",
        "    output_text.append(output_line)"
      ],
      "execution_count": 0,
      "outputs": []
    },
    {
      "cell_type": "code",
      "metadata": {
        "id": "NEQIY4rH6oiA",
        "colab_type": "code",
        "colab": {}
      },
      "source": [
        "#Defining the maximum_sequence_length\n",
        "Max_sequence_length = 80\n",
        "#Now joining both the input and output in corp\n",
        "corp = input_text+output_text"
      ],
      "execution_count": 0,
      "outputs": []
    },
    {
      "cell_type": "code",
      "metadata": {
        "id": "TNlJliey7QPA",
        "colab_type": "code",
        "outputId": "f49a3f0e-4372-4bdc-984d-df7a39e2c45b",
        "colab": {
          "base_uri": "https://localhost:8080/",
          "height": 35
        }
      },
      "source": [
        "from keras.preprocessing.text import Tokenizer\n",
        "Max_vocab_size = 3000\n",
        "tokenizer = Tokenizer(num_words = Max_vocab_size,filters = \" \")\n",
        "tokenizer.fit_on_texts(corp)\n",
        "#Now converting the input and output sentences to sequences of integer using tokenizer\n",
        "input_sequences = tokenizer.texts_to_sequences(input_text)\n",
        "output_sequences = tokenizer.texts_to_sequences(output_text)"
      ],
      "execution_count": 6,
      "outputs": [
        {
          "output_type": "stream",
          "text": [
            "Using TensorFlow backend.\n"
          ],
          "name": "stderr"
        }
      ]
    },
    {
      "cell_type": "code",
      "metadata": {
        "id": "784HbIq78kJ9",
        "colab_type": "code",
        "outputId": "41c40416-1048-4deb-85ca-d1e8da91ff4d",
        "colab": {
          "base_uri": "https://localhost:8080/",
          "height": 35
        }
      },
      "source": [
        "#Finding the maximum sequence length\n",
        "Max_sequence_length_data = max(len(s) for s in input_sequences)\n",
        "print(\"max_sequence_length_from_data: \",Max_sequence_length_data)"
      ],
      "execution_count": 7,
      "outputs": [
        {
          "output_type": "stream",
          "text": [
            "max_sequence_length_from_data:  12\n"
          ],
          "name": "stdout"
        }
      ]
    },
    {
      "cell_type": "code",
      "metadata": {
        "id": "QQyaZw7t9ZDU",
        "colab_type": "code",
        "outputId": "3e85fbbe-d190-45fe-d2ef-0bdb910d2431",
        "colab": {
          "base_uri": "https://localhost:8080/",
          "height": 35
        }
      },
      "source": [
        "#Utilizing word to index from tokenizer(actually in sequence each word has been mapped to a certain index which actually belong to word in vocabulary)\n",
        "word2idx = tokenizer.word_index\n",
        "print(\"Length_of_word_index: \",len(word2idx))\n",
        "assert(\"<sos>\" in word2idx)\n",
        "assert(\"<eos>\" in word2idx)"
      ],
      "execution_count": 8,
      "outputs": [
        {
          "output_type": "stream",
          "text": [
            "Length_of_word_index:  3056\n"
          ],
          "name": "stdout"
        }
      ]
    },
    {
      "cell_type": "code",
      "metadata": {
        "id": "SDPI3adY-a5-",
        "colab_type": "code",
        "colab": {}
      },
      "source": [
        "max_sequence_length = min(Max_sequence_length,Max_sequence_length_data)\n",
        "#Now padding the input and output sequences(padding will be post)\n",
        "from keras.preprocessing.sequence import pad_sequences\n",
        "padded_input_sequences = pad_sequences(input_sequences,maxlen = max_sequence_length,padding = \"post\")\n",
        "padded_output_sequences = pad_sequences(output_sequences,maxlen = max_sequence_length,padding = \"post\")"
      ],
      "execution_count": 0,
      "outputs": []
    },
    {
      "cell_type": "markdown",
      "metadata": {
        "id": "QNYWB-Xi_-9y",
        "colab_type": "text"
      },
      "source": [
        "Now basically what we have is input and output padded sequences\n",
        "\n",
        "input sequences are vector of size 12 and so are output sequences and we have 1436 sample pair"
      ]
    },
    {
      "cell_type": "markdown",
      "metadata": {
        "id": "VKWiloHFAzUa",
        "colab_type": "text"
      },
      "source": [
        "Now we be loading our pretrained glove word embedding and we will transform each and every vector containing words in padded sequences with the word vectors from glove embeddings"
      ]
    },
    {
      "cell_type": "code",
      "metadata": {
        "id": "EA-kNA6fBKSh",
        "colab_type": "code",
        "outputId": "ca5bd7c9-8b38-4b1b-b2b0-733abcab113e",
        "colab": {
          "base_uri": "https://localhost:8080/",
          "height": 35
        }
      },
      "source": [
        "#Here we will be using Glove word vectors\n",
        "#First creating a dictonary of word to vectors(initializing a empty dictionary)\n",
        "word2vec = {}\n",
        "with open(os.path.join(\"glove.6B.100d.txt\")) as f:\n",
        "  for line in f:\n",
        "    values = line.split()\n",
        "    word = values[0]\n",
        "    vec = np.asarray(values[1:],dtype = \"float32\")\n",
        "    word2vec[word] = vec\n",
        "print(\"No of word to vectors in glove word 2 vec: \",len(word2vec))\n",
        "#So here basically we created a dictionary having words as index and corresponding vectors as values"
      ],
      "execution_count": 10,
      "outputs": [
        {
          "output_type": "stream",
          "text": [
            "No of word to vectors in glove word 2 vec:  400000\n"
          ],
          "name": "stdout"
        }
      ]
    },
    {
      "cell_type": "markdown",
      "metadata": {
        "id": "VwWtEj_EBudC",
        "colab_type": "text"
      },
      "source": [
        "Now next step which we gonna do is create a embedding matrix which we will use for mapping each of the word of our sentence to a vector "
      ]
    },
    {
      "cell_type": "code",
      "metadata": {
        "id": "tNpqKoIwBvfj",
        "colab_type": "code",
        "colab": {}
      },
      "source": [
        "#These num_words will be our vocabulary size\n",
        "#Embedding_dim will be the size of our embeddings(word vectors), which will be 100 as in glove 100d each word contain a corresponding vector of 100d\n",
        "#This plus 1 because word2idx index start from 1\n",
        "num_words = min(Max_vocab_size,len(word2idx)+1)\n",
        "Embedding_dim = 100\n",
        "embedding_matrix = np.zeros((num_words,Embedding_dim))\n",
        "for word,i in word2idx.items():\n",
        "  if i<Max_vocab_size:\n",
        "    embedding_vector = word2vec.get(word)\n",
        "    if embedding_vector is not None:\n",
        "      embedding_matrix[i] = embedding_vector\n",
        "#This is the way we gonna fill our embedding matrix with word vectors"
      ],
      "execution_count": 0,
      "outputs": []
    },
    {
      "cell_type": "markdown",
      "metadata": {
        "id": "VUQZvx3kCEKW",
        "colab_type": "text"
      },
      "source": [
        "One hot target can't use sparse cross_entropy"
      ]
    },
    {
      "cell_type": "code",
      "metadata": {
        "id": "0U0AuwZcB9-r",
        "colab_type": "code",
        "colab": {}
      },
      "source": [
        "one_hot_targets = np.zeros((len(padded_input_sequences),max_sequence_length,num_words))\n",
        "for i,target in enumerate(padded_output_sequences):\n",
        "  for t,word in enumerate(target):\n",
        "    if word>0:\n",
        "      one_hot_targets[i,t,word] = 1"
      ],
      "execution_count": 0,
      "outputs": []
    },
    {
      "cell_type": "code",
      "metadata": {
        "id": "LC2UNXqXDhT5",
        "colab_type": "code",
        "colab": {}
      },
      "source": [
        "from keras.layers import Embedding\n",
        "embedding_dim = 100\n",
        "embedding_layer = Embedding(num_words,embedding_dim,weights = [embedding_matrix])"
      ],
      "execution_count": 0,
      "outputs": []
    },
    {
      "cell_type": "markdown",
      "metadata": {
        "id": "VYLipRkhEJMQ",
        "colab_type": "text"
      },
      "source": [
        "Now creating the model"
      ]
    },
    {
      "cell_type": "code",
      "metadata": {
        "id": "8wz4mP1ZD8vY",
        "colab_type": "code",
        "colab": {}
      },
      "source": [
        "from keras.models import Model\n",
        "from keras.layers import Input,LSTM,Dense\n",
        "#Defining the latent dim\n",
        "M = 25\n",
        "#For our model we will be having three inputs including the initail cell state and hidded state with input\n",
        "input_ = Input(shape = (max_sequence_length,))\n",
        "initial_h = Input(shape = (M,))\n",
        "initial_c = Input(shape = (M,))\n",
        "x = embedding_layer(input_)\n",
        "#Return_sequence True as we have to preict the full sequence\n",
        "lstm = LSTM(M,return_sequences = True,return_state = True)\n",
        "x,_,_ = lstm(x,initial_state = [initial_h,initial_c])\n",
        "dense = Dense(num_words,activation = \"softmax\")\n",
        "output = dense(x)\n",
        "#Inputs(input_,initail_h,initil_c) and Outputs(output)\n",
        "model = Model([input_,initial_h,initial_c],output)"
      ],
      "execution_count": 0,
      "outputs": []
    },
    {
      "cell_type": "markdown",
      "metadata": {
        "id": "KP_chLgOF-aW",
        "colab_type": "text"
      },
      "source": [
        "Thing to be given attention is that we have set return_state and return_sequences to be true so in our output we will be having output at each time stamp and return_state true will return both cell state and hidden state but if used GRU it will return only hidden state as thre is no cell state"
      ]
    },
    {
      "cell_type": "code",
      "metadata": {
        "id": "LiFAVtIhHZNA",
        "colab_type": "code",
        "colab": {}
      },
      "source": [
        "#Now compiling the model\n",
        "from keras.optimizers import Adam,SGD\n",
        "model.compile(loss = \"categorical_crossentropy\",optimizer = Adam(lr = 0.01),metrics = [\"accuracy\"])"
      ],
      "execution_count": 0,
      "outputs": []
    },
    {
      "cell_type": "code",
      "metadata": {
        "id": "8b6qhjTgIGaw",
        "colab_type": "code",
        "colab": {}
      },
      "source": [
        "#Now defining the values of the initial hidden and cell state\n",
        "val = np.zeros((len(padded_input_sequences),M))"
      ],
      "execution_count": 0,
      "outputs": []
    },
    {
      "cell_type": "code",
      "metadata": {
        "id": "JEG18-q3Ivxv",
        "colab_type": "code",
        "outputId": "ef984032-8cf4-4997-bb0d-dbdcc99134df",
        "colab": {
          "base_uri": "https://localhost:8080/",
          "height": 1000
        }
      },
      "source": [
        "#Fitting the model on the input and output data\n",
        "ht = model.fit([padded_input_sequences,val,val],one_hot_targets,batch_size = 128,epochs = 200,validation_split = 0.2)"
      ],
      "execution_count": 17,
      "outputs": [
        {
          "output_type": "stream",
          "text": [
            "/usr/local/lib/python3.6/dist-packages/tensorflow/python/framework/indexed_slices.py:434: UserWarning: Converting sparse IndexedSlices to a dense Tensor of unknown shape. This may consume a large amount of memory.\n",
            "  \"Converting sparse IndexedSlices to a dense Tensor of unknown shape. \"\n"
          ],
          "name": "stderr"
        },
        {
          "output_type": "stream",
          "text": [
            "Train on 1148 samples, validate on 288 samples\n",
            "Epoch 1/200\n",
            "1148/1148 [==============================] - 3s 2ms/step - loss: 5.3717 - accuracy: 0.0703 - val_loss: 5.0344 - val_accuracy: 0.0833\n",
            "Epoch 2/200\n",
            "1148/1148 [==============================] - 2s 2ms/step - loss: 4.5928 - accuracy: 0.0833 - val_loss: 4.7843 - val_accuracy: 0.0833\n",
            "Epoch 3/200\n",
            "1148/1148 [==============================] - 2s 2ms/step - loss: 4.3441 - accuracy: 0.0833 - val_loss: 4.8836 - val_accuracy: 0.0833\n",
            "Epoch 4/200\n",
            "1148/1148 [==============================] - 2s 2ms/step - loss: 4.2981 - accuracy: 0.0833 - val_loss: 4.8977 - val_accuracy: 0.0833\n",
            "Epoch 5/200\n",
            "1148/1148 [==============================] - 2s 2ms/step - loss: 4.2460 - accuracy: 0.0833 - val_loss: 4.9331 - val_accuracy: 0.0833\n",
            "Epoch 6/200\n",
            "1148/1148 [==============================] - 2s 2ms/step - loss: 4.2190 - accuracy: 0.0833 - val_loss: 4.9419 - val_accuracy: 0.0833\n",
            "Epoch 7/200\n",
            "1148/1148 [==============================] - 2s 2ms/step - loss: 4.1877 - accuracy: 0.0833 - val_loss: 4.9489 - val_accuracy: 0.0833\n",
            "Epoch 8/200\n",
            "1148/1148 [==============================] - 2s 2ms/step - loss: 4.1536 - accuracy: 0.0841 - val_loss: 4.9452 - val_accuracy: 0.0859\n",
            "Epoch 9/200\n",
            "1148/1148 [==============================] - 2s 2ms/step - loss: 4.1129 - accuracy: 0.0904 - val_loss: 4.9537 - val_accuracy: 0.0859\n",
            "Epoch 10/200\n",
            "1148/1148 [==============================] - 2s 2ms/step - loss: 4.0740 - accuracy: 0.0925 - val_loss: 4.9537 - val_accuracy: 0.0868\n",
            "Epoch 11/200\n",
            "1148/1148 [==============================] - 2s 2ms/step - loss: 4.0210 - accuracy: 0.0924 - val_loss: 4.9197 - val_accuracy: 0.0862\n",
            "Epoch 12/200\n",
            "1148/1148 [==============================] - 2s 2ms/step - loss: 3.9761 - accuracy: 0.0940 - val_loss: 4.9175 - val_accuracy: 0.0865\n",
            "Epoch 13/200\n",
            "1148/1148 [==============================] - 2s 2ms/step - loss: 3.9284 - accuracy: 0.0939 - val_loss: 4.9010 - val_accuracy: 0.0865\n",
            "Epoch 14/200\n",
            "1148/1148 [==============================] - 2s 2ms/step - loss: 3.8813 - accuracy: 0.0955 - val_loss: 4.8974 - val_accuracy: 0.0877\n",
            "Epoch 15/200\n",
            "1148/1148 [==============================] - 2s 2ms/step - loss: 3.8335 - accuracy: 0.0981 - val_loss: 4.8906 - val_accuracy: 0.0888\n",
            "Epoch 16/200\n",
            "1148/1148 [==============================] - 2s 2ms/step - loss: 3.7871 - accuracy: 0.1014 - val_loss: 4.8750 - val_accuracy: 0.0911\n",
            "Epoch 17/200\n",
            "1148/1148 [==============================] - 2s 2ms/step - loss: 3.7418 - accuracy: 0.1056 - val_loss: 4.8696 - val_accuracy: 0.0917\n",
            "Epoch 18/200\n",
            "1148/1148 [==============================] - 2s 2ms/step - loss: 3.7004 - accuracy: 0.1071 - val_loss: 4.8717 - val_accuracy: 0.0911\n",
            "Epoch 19/200\n",
            "1148/1148 [==============================] - 2s 2ms/step - loss: 3.6616 - accuracy: 0.1152 - val_loss: 4.8826 - val_accuracy: 0.0952\n",
            "Epoch 20/200\n",
            "1148/1148 [==============================] - 2s 2ms/step - loss: 3.6244 - accuracy: 0.1200 - val_loss: 4.8898 - val_accuracy: 0.0969\n",
            "Epoch 21/200\n",
            "1148/1148 [==============================] - 2s 2ms/step - loss: 3.5898 - accuracy: 0.1224 - val_loss: 4.9034 - val_accuracy: 0.0938\n",
            "Epoch 22/200\n",
            "1148/1148 [==============================] - 2s 2ms/step - loss: 3.5591 - accuracy: 0.1238 - val_loss: 4.9087 - val_accuracy: 0.0949\n",
            "Epoch 23/200\n",
            "1148/1148 [==============================] - 2s 2ms/step - loss: 3.5271 - accuracy: 0.1252 - val_loss: 4.9208 - val_accuracy: 0.0946\n",
            "Epoch 24/200\n",
            "1148/1148 [==============================] - 2s 2ms/step - loss: 3.4976 - accuracy: 0.1275 - val_loss: 4.9294 - val_accuracy: 0.0952\n",
            "Epoch 25/200\n",
            "1148/1148 [==============================] - 2s 2ms/step - loss: 3.4677 - accuracy: 0.1294 - val_loss: 4.9451 - val_accuracy: 0.0955\n",
            "Epoch 26/200\n",
            "1148/1148 [==============================] - 2s 2ms/step - loss: 3.4388 - accuracy: 0.1289 - val_loss: 4.9538 - val_accuracy: 0.0946\n",
            "Epoch 27/200\n",
            "1148/1148 [==============================] - 2s 2ms/step - loss: 3.4123 - accuracy: 0.1290 - val_loss: 4.9664 - val_accuracy: 0.0955\n",
            "Epoch 28/200\n",
            "1148/1148 [==============================] - 2s 2ms/step - loss: 3.3834 - accuracy: 0.1304 - val_loss: 4.9700 - val_accuracy: 0.0943\n",
            "Epoch 29/200\n",
            "1148/1148 [==============================] - 2s 2ms/step - loss: 3.3561 - accuracy: 0.1326 - val_loss: 4.9758 - val_accuracy: 0.0940\n",
            "Epoch 30/200\n",
            "1148/1148 [==============================] - 2s 2ms/step - loss: 3.3267 - accuracy: 0.1338 - val_loss: 4.9911 - val_accuracy: 0.0952\n",
            "Epoch 31/200\n",
            "1148/1148 [==============================] - 2s 2ms/step - loss: 3.2993 - accuracy: 0.1366 - val_loss: 4.9983 - val_accuracy: 0.0940\n",
            "Epoch 32/200\n",
            "1148/1148 [==============================] - 2s 2ms/step - loss: 3.2726 - accuracy: 0.1373 - val_loss: 5.0117 - val_accuracy: 0.0929\n",
            "Epoch 33/200\n",
            "1148/1148 [==============================] - 2s 2ms/step - loss: 3.2467 - accuracy: 0.1418 - val_loss: 5.0172 - val_accuracy: 0.0946\n",
            "Epoch 34/200\n",
            "1148/1148 [==============================] - 2s 2ms/step - loss: 3.2166 - accuracy: 0.1429 - val_loss: 5.0227 - val_accuracy: 0.0940\n",
            "Epoch 35/200\n",
            "1148/1148 [==============================] - 2s 2ms/step - loss: 3.1891 - accuracy: 0.1461 - val_loss: 5.0275 - val_accuracy: 0.0946\n",
            "Epoch 36/200\n",
            "1148/1148 [==============================] - 2s 2ms/step - loss: 3.1611 - accuracy: 0.1489 - val_loss: 5.0295 - val_accuracy: 0.0943\n",
            "Epoch 37/200\n",
            "1148/1148 [==============================] - 2s 2ms/step - loss: 3.1345 - accuracy: 0.1485 - val_loss: 5.0371 - val_accuracy: 0.0940\n",
            "Epoch 38/200\n",
            "1148/1148 [==============================] - 2s 2ms/step - loss: 3.1059 - accuracy: 0.1538 - val_loss: 5.0561 - val_accuracy: 0.0943\n",
            "Epoch 39/200\n",
            "1148/1148 [==============================] - 2s 2ms/step - loss: 3.0790 - accuracy: 0.1566 - val_loss: 5.0667 - val_accuracy: 0.0949\n",
            "Epoch 40/200\n",
            "1148/1148 [==============================] - 2s 2ms/step - loss: 3.0536 - accuracy: 0.1593 - val_loss: 5.0813 - val_accuracy: 0.0938\n",
            "Epoch 41/200\n",
            "1148/1148 [==============================] - 2s 2ms/step - loss: 3.0292 - accuracy: 0.1634 - val_loss: 5.0937 - val_accuracy: 0.0932\n",
            "Epoch 42/200\n",
            "1148/1148 [==============================] - 2s 2ms/step - loss: 3.0003 - accuracy: 0.1661 - val_loss: 5.0998 - val_accuracy: 0.0943\n",
            "Epoch 43/200\n",
            "1148/1148 [==============================] - 2s 2ms/step - loss: 2.9726 - accuracy: 0.1687 - val_loss: 5.1111 - val_accuracy: 0.0943\n",
            "Epoch 44/200\n",
            "1148/1148 [==============================] - 2s 2ms/step - loss: 2.9456 - accuracy: 0.1731 - val_loss: 5.1160 - val_accuracy: 0.0932\n",
            "Epoch 45/200\n",
            "1148/1148 [==============================] - 2s 2ms/step - loss: 2.9216 - accuracy: 0.1767 - val_loss: 5.1318 - val_accuracy: 0.0943\n",
            "Epoch 46/200\n",
            "1148/1148 [==============================] - 2s 2ms/step - loss: 2.8964 - accuracy: 0.1800 - val_loss: 5.1386 - val_accuracy: 0.0946\n",
            "Epoch 47/200\n",
            "1148/1148 [==============================] - 2s 2ms/step - loss: 2.8702 - accuracy: 0.1818 - val_loss: 5.1503 - val_accuracy: 0.0943\n",
            "Epoch 48/200\n",
            "1148/1148 [==============================] - 2s 2ms/step - loss: 2.8457 - accuracy: 0.1874 - val_loss: 5.1648 - val_accuracy: 0.0946\n",
            "Epoch 49/200\n",
            "1148/1148 [==============================] - 2s 2ms/step - loss: 2.8214 - accuracy: 0.1929 - val_loss: 5.1758 - val_accuracy: 0.0946\n",
            "Epoch 50/200\n",
            "1148/1148 [==============================] - 2s 2ms/step - loss: 2.7989 - accuracy: 0.1951 - val_loss: 5.1914 - val_accuracy: 0.0946\n",
            "Epoch 51/200\n",
            "1148/1148 [==============================] - 2s 2ms/step - loss: 2.7752 - accuracy: 0.1982 - val_loss: 5.2020 - val_accuracy: 0.0940\n",
            "Epoch 52/200\n",
            "1148/1148 [==============================] - 2s 2ms/step - loss: 2.7538 - accuracy: 0.1997 - val_loss: 5.2131 - val_accuracy: 0.0926\n",
            "Epoch 53/200\n",
            "1148/1148 [==============================] - 2s 2ms/step - loss: 2.7304 - accuracy: 0.2025 - val_loss: 5.2220 - val_accuracy: 0.0932\n",
            "Epoch 54/200\n",
            "1148/1148 [==============================] - 2s 2ms/step - loss: 2.7098 - accuracy: 0.2049 - val_loss: 5.2334 - val_accuracy: 0.0929\n",
            "Epoch 55/200\n",
            "1148/1148 [==============================] - 2s 2ms/step - loss: 2.6889 - accuracy: 0.2087 - val_loss: 5.2438 - val_accuracy: 0.0932\n",
            "Epoch 56/200\n",
            "1148/1148 [==============================] - 2s 2ms/step - loss: 2.6687 - accuracy: 0.2101 - val_loss: 5.2532 - val_accuracy: 0.0926\n",
            "Epoch 57/200\n",
            "1148/1148 [==============================] - 2s 2ms/step - loss: 2.6500 - accuracy: 0.2133 - val_loss: 5.2720 - val_accuracy: 0.0911\n",
            "Epoch 58/200\n",
            "1148/1148 [==============================] - 2s 2ms/step - loss: 2.6285 - accuracy: 0.2157 - val_loss: 5.2798 - val_accuracy: 0.0914\n",
            "Epoch 59/200\n",
            "1148/1148 [==============================] - 2s 2ms/step - loss: 2.6095 - accuracy: 0.2204 - val_loss: 5.2875 - val_accuracy: 0.0926\n",
            "Epoch 60/200\n",
            "1148/1148 [==============================] - 2s 2ms/step - loss: 2.5918 - accuracy: 0.2217 - val_loss: 5.2978 - val_accuracy: 0.0906\n",
            "Epoch 61/200\n",
            "1148/1148 [==============================] - 2s 2ms/step - loss: 2.5733 - accuracy: 0.2228 - val_loss: 5.3147 - val_accuracy: 0.0897\n",
            "Epoch 62/200\n",
            "1148/1148 [==============================] - 2s 2ms/step - loss: 2.5539 - accuracy: 0.2274 - val_loss: 5.3262 - val_accuracy: 0.0914\n",
            "Epoch 63/200\n",
            "1148/1148 [==============================] - 2s 2ms/step - loss: 2.5356 - accuracy: 0.2289 - val_loss: 5.3351 - val_accuracy: 0.0911\n",
            "Epoch 64/200\n",
            "1148/1148 [==============================] - 2s 2ms/step - loss: 2.5165 - accuracy: 0.2315 - val_loss: 5.3494 - val_accuracy: 0.0883\n",
            "Epoch 65/200\n",
            "1148/1148 [==============================] - 2s 2ms/step - loss: 2.4989 - accuracy: 0.2324 - val_loss: 5.3543 - val_accuracy: 0.0903\n",
            "Epoch 66/200\n",
            "1148/1148 [==============================] - 2s 2ms/step - loss: 2.4820 - accuracy: 0.2355 - val_loss: 5.3742 - val_accuracy: 0.0888\n",
            "Epoch 67/200\n",
            "1148/1148 [==============================] - 2s 2ms/step - loss: 2.4661 - accuracy: 0.2390 - val_loss: 5.3801 - val_accuracy: 0.0880\n",
            "Epoch 68/200\n",
            "1148/1148 [==============================] - 2s 2ms/step - loss: 2.4485 - accuracy: 0.2409 - val_loss: 5.3981 - val_accuracy: 0.0880\n",
            "Epoch 69/200\n",
            "1148/1148 [==============================] - 2s 2ms/step - loss: 2.4310 - accuracy: 0.2426 - val_loss: 5.4038 - val_accuracy: 0.0894\n",
            "Epoch 70/200\n",
            "1148/1148 [==============================] - 2s 2ms/step - loss: 2.4159 - accuracy: 0.2448 - val_loss: 5.4212 - val_accuracy: 0.0868\n",
            "Epoch 71/200\n",
            "1148/1148 [==============================] - 2s 2ms/step - loss: 2.3999 - accuracy: 0.2483 - val_loss: 5.4245 - val_accuracy: 0.0880\n",
            "Epoch 72/200\n",
            "1148/1148 [==============================] - 2s 2ms/step - loss: 2.3847 - accuracy: 0.2485 - val_loss: 5.4425 - val_accuracy: 0.0877\n",
            "Epoch 73/200\n",
            "1148/1148 [==============================] - 2s 2ms/step - loss: 2.3718 - accuracy: 0.2512 - val_loss: 5.4407 - val_accuracy: 0.0888\n",
            "Epoch 74/200\n",
            "1148/1148 [==============================] - 2s 2ms/step - loss: 2.3572 - accuracy: 0.2532 - val_loss: 5.4519 - val_accuracy: 0.0851\n",
            "Epoch 75/200\n",
            "1148/1148 [==============================] - 2s 2ms/step - loss: 2.3396 - accuracy: 0.2572 - val_loss: 5.4581 - val_accuracy: 0.0848\n",
            "Epoch 76/200\n",
            "1148/1148 [==============================] - 2s 2ms/step - loss: 2.3236 - accuracy: 0.2578 - val_loss: 5.4793 - val_accuracy: 0.0862\n",
            "Epoch 77/200\n",
            "1148/1148 [==============================] - 2s 2ms/step - loss: 2.3085 - accuracy: 0.2599 - val_loss: 5.4879 - val_accuracy: 0.0871\n",
            "Epoch 78/200\n",
            "1148/1148 [==============================] - 2s 2ms/step - loss: 2.2945 - accuracy: 0.2618 - val_loss: 5.5019 - val_accuracy: 0.0851\n",
            "Epoch 79/200\n",
            "1148/1148 [==============================] - 2s 2ms/step - loss: 2.2818 - accuracy: 0.2640 - val_loss: 5.5077 - val_accuracy: 0.0856\n",
            "Epoch 80/200\n",
            "1148/1148 [==============================] - 2s 2ms/step - loss: 2.2675 - accuracy: 0.2647 - val_loss: 5.5234 - val_accuracy: 0.0859\n",
            "Epoch 81/200\n",
            "1148/1148 [==============================] - 2s 2ms/step - loss: 2.2542 - accuracy: 0.2675 - val_loss: 5.5329 - val_accuracy: 0.0854\n",
            "Epoch 82/200\n",
            "1148/1148 [==============================] - 2s 2ms/step - loss: 2.2403 - accuracy: 0.2693 - val_loss: 5.5408 - val_accuracy: 0.0865\n",
            "Epoch 83/200\n",
            "1148/1148 [==============================] - 2s 2ms/step - loss: 2.2266 - accuracy: 0.2708 - val_loss: 5.5527 - val_accuracy: 0.0871\n",
            "Epoch 84/200\n",
            "1148/1148 [==============================] - 2s 2ms/step - loss: 2.2132 - accuracy: 0.2721 - val_loss: 5.5641 - val_accuracy: 0.0859\n",
            "Epoch 85/200\n",
            "1148/1148 [==============================] - 2s 2ms/step - loss: 2.2010 - accuracy: 0.2733 - val_loss: 5.5690 - val_accuracy: 0.0871\n",
            "Epoch 86/200\n",
            "1148/1148 [==============================] - 2s 2ms/step - loss: 2.1893 - accuracy: 0.2763 - val_loss: 5.5837 - val_accuracy: 0.0871\n",
            "Epoch 87/200\n",
            "1148/1148 [==============================] - 2s 2ms/step - loss: 2.1767 - accuracy: 0.2780 - val_loss: 5.5948 - val_accuracy: 0.0874\n",
            "Epoch 88/200\n",
            "1148/1148 [==============================] - 2s 2ms/step - loss: 2.1654 - accuracy: 0.2785 - val_loss: 5.6064 - val_accuracy: 0.0874\n",
            "Epoch 89/200\n",
            "1148/1148 [==============================] - 2s 2ms/step - loss: 2.1513 - accuracy: 0.2802 - val_loss: 5.6106 - val_accuracy: 0.0871\n",
            "Epoch 90/200\n",
            "1148/1148 [==============================] - 3s 3ms/step - loss: 2.1416 - accuracy: 0.2819 - val_loss: 5.6097 - val_accuracy: 0.0859\n",
            "Epoch 91/200\n",
            "1148/1148 [==============================] - 3s 3ms/step - loss: 2.1344 - accuracy: 0.2819 - val_loss: 5.6162 - val_accuracy: 0.0865\n",
            "Epoch 92/200\n",
            "1148/1148 [==============================] - 3s 3ms/step - loss: 2.1325 - accuracy: 0.2804 - val_loss: 5.6289 - val_accuracy: 0.0830\n",
            "Epoch 93/200\n",
            "1148/1148 [==============================] - 2s 2ms/step - loss: 2.1208 - accuracy: 0.2830 - val_loss: 5.6212 - val_accuracy: 0.0839\n",
            "Epoch 94/200\n",
            "1148/1148 [==============================] - 2s 2ms/step - loss: 2.1050 - accuracy: 0.2829 - val_loss: 5.6420 - val_accuracy: 0.0842\n",
            "Epoch 95/200\n",
            "1148/1148 [==============================] - 2s 2ms/step - loss: 2.0918 - accuracy: 0.2880 - val_loss: 5.6569 - val_accuracy: 0.0865\n",
            "Epoch 96/200\n",
            "1148/1148 [==============================] - 2s 2ms/step - loss: 2.0792 - accuracy: 0.2890 - val_loss: 5.6654 - val_accuracy: 0.0842\n",
            "Epoch 97/200\n",
            "1148/1148 [==============================] - 2s 2ms/step - loss: 2.0645 - accuracy: 0.2912 - val_loss: 5.6753 - val_accuracy: 0.0854\n",
            "Epoch 98/200\n",
            "1148/1148 [==============================] - 2s 2ms/step - loss: 2.0527 - accuracy: 0.2921 - val_loss: 5.6909 - val_accuracy: 0.0833\n",
            "Epoch 99/200\n",
            "1148/1148 [==============================] - 2s 2ms/step - loss: 2.0407 - accuracy: 0.2933 - val_loss: 5.6954 - val_accuracy: 0.0830\n",
            "Epoch 100/200\n",
            "1148/1148 [==============================] - 2s 2ms/step - loss: 2.0306 - accuracy: 0.2954 - val_loss: 5.6933 - val_accuracy: 0.0830\n",
            "Epoch 101/200\n",
            "1148/1148 [==============================] - 2s 2ms/step - loss: 2.0198 - accuracy: 0.2970 - val_loss: 5.7030 - val_accuracy: 0.0839\n",
            "Epoch 102/200\n",
            "1148/1148 [==============================] - 2s 2ms/step - loss: 2.0091 - accuracy: 0.2996 - val_loss: 5.7182 - val_accuracy: 0.0839\n",
            "Epoch 103/200\n",
            "1148/1148 [==============================] - 2s 2ms/step - loss: 1.9982 - accuracy: 0.3000 - val_loss: 5.7231 - val_accuracy: 0.0842\n",
            "Epoch 104/200\n",
            "1148/1148 [==============================] - 2s 2ms/step - loss: 1.9882 - accuracy: 0.3006 - val_loss: 5.7202 - val_accuracy: 0.0839\n",
            "Epoch 105/200\n",
            "1148/1148 [==============================] - 2s 2ms/step - loss: 1.9778 - accuracy: 0.3022 - val_loss: 5.7327 - val_accuracy: 0.0830\n",
            "Epoch 106/200\n",
            "1148/1148 [==============================] - 2s 2ms/step - loss: 1.9682 - accuracy: 0.3044 - val_loss: 5.7452 - val_accuracy: 0.0845\n",
            "Epoch 107/200\n",
            "1148/1148 [==============================] - 2s 2ms/step - loss: 1.9603 - accuracy: 0.3055 - val_loss: 5.7564 - val_accuracy: 0.0842\n",
            "Epoch 108/200\n",
            "1148/1148 [==============================] - 2s 2ms/step - loss: 1.9530 - accuracy: 0.3066 - val_loss: 5.7751 - val_accuracy: 0.0859\n",
            "Epoch 109/200\n",
            "1148/1148 [==============================] - 2s 2ms/step - loss: 1.9437 - accuracy: 0.3067 - val_loss: 5.7710 - val_accuracy: 0.0848\n",
            "Epoch 110/200\n",
            "1148/1148 [==============================] - 2s 2ms/step - loss: 1.9328 - accuracy: 0.3094 - val_loss: 5.7796 - val_accuracy: 0.0856\n",
            "Epoch 111/200\n",
            "1148/1148 [==============================] - 2s 2ms/step - loss: 1.9232 - accuracy: 0.3099 - val_loss: 5.7894 - val_accuracy: 0.0836\n",
            "Epoch 112/200\n",
            "1148/1148 [==============================] - 2s 2ms/step - loss: 1.9124 - accuracy: 0.3113 - val_loss: 5.8030 - val_accuracy: 0.0868\n",
            "Epoch 113/200\n",
            "1148/1148 [==============================] - 2s 2ms/step - loss: 1.9040 - accuracy: 0.3150 - val_loss: 5.8093 - val_accuracy: 0.0830\n",
            "Epoch 114/200\n",
            "1148/1148 [==============================] - 2s 2ms/step - loss: 1.8942 - accuracy: 0.3143 - val_loss: 5.8159 - val_accuracy: 0.0851\n",
            "Epoch 115/200\n",
            "1148/1148 [==============================] - 2s 2ms/step - loss: 1.8862 - accuracy: 0.3156 - val_loss: 5.8255 - val_accuracy: 0.0862\n",
            "Epoch 116/200\n",
            "1148/1148 [==============================] - 2s 2ms/step - loss: 1.8788 - accuracy: 0.3169 - val_loss: 5.8274 - val_accuracy: 0.0862\n",
            "Epoch 117/200\n",
            "1148/1148 [==============================] - 2s 2ms/step - loss: 1.8697 - accuracy: 0.3186 - val_loss: 5.8384 - val_accuracy: 0.0854\n",
            "Epoch 118/200\n",
            "1148/1148 [==============================] - 2s 2ms/step - loss: 1.8620 - accuracy: 0.3196 - val_loss: 5.8498 - val_accuracy: 0.0865\n",
            "Epoch 119/200\n",
            "1148/1148 [==============================] - 2s 2ms/step - loss: 1.8547 - accuracy: 0.3217 - val_loss: 5.8496 - val_accuracy: 0.0859\n",
            "Epoch 120/200\n",
            "1148/1148 [==============================] - 2s 2ms/step - loss: 1.8491 - accuracy: 0.3213 - val_loss: 5.8645 - val_accuracy: 0.0854\n",
            "Epoch 121/200\n",
            "1148/1148 [==============================] - 2s 2ms/step - loss: 1.8398 - accuracy: 0.3224 - val_loss: 5.8819 - val_accuracy: 0.0830\n",
            "Epoch 122/200\n",
            "1148/1148 [==============================] - 2s 2ms/step - loss: 1.8319 - accuracy: 0.3230 - val_loss: 5.8881 - val_accuracy: 0.0833\n",
            "Epoch 123/200\n",
            "1148/1148 [==============================] - 2s 2ms/step - loss: 1.8248 - accuracy: 0.3253 - val_loss: 5.8896 - val_accuracy: 0.0833\n",
            "Epoch 124/200\n",
            "1148/1148 [==============================] - 2s 2ms/step - loss: 1.8156 - accuracy: 0.3272 - val_loss: 5.8886 - val_accuracy: 0.0839\n",
            "Epoch 125/200\n",
            "1148/1148 [==============================] - 2s 2ms/step - loss: 1.8059 - accuracy: 0.3300 - val_loss: 5.9056 - val_accuracy: 0.0830\n",
            "Epoch 126/200\n",
            "1148/1148 [==============================] - 2s 2ms/step - loss: 1.7979 - accuracy: 0.3300 - val_loss: 5.9161 - val_accuracy: 0.0836\n",
            "Epoch 127/200\n",
            "1148/1148 [==============================] - 2s 2ms/step - loss: 1.7906 - accuracy: 0.3328 - val_loss: 5.9196 - val_accuracy: 0.0825\n",
            "Epoch 128/200\n",
            "1148/1148 [==============================] - 2s 2ms/step - loss: 1.7841 - accuracy: 0.3326 - val_loss: 5.9235 - val_accuracy: 0.0825\n",
            "Epoch 129/200\n",
            "1148/1148 [==============================] - 2s 2ms/step - loss: 1.7747 - accuracy: 0.3338 - val_loss: 5.9356 - val_accuracy: 0.0830\n",
            "Epoch 130/200\n",
            "1148/1148 [==============================] - 2s 2ms/step - loss: 1.7675 - accuracy: 0.3359 - val_loss: 5.9423 - val_accuracy: 0.0830\n",
            "Epoch 131/200\n",
            "1148/1148 [==============================] - 2s 2ms/step - loss: 1.7598 - accuracy: 0.3371 - val_loss: 5.9550 - val_accuracy: 0.0813\n",
            "Epoch 132/200\n",
            "1148/1148 [==============================] - 2s 2ms/step - loss: 1.7526 - accuracy: 0.3378 - val_loss: 5.9557 - val_accuracy: 0.0825\n",
            "Epoch 133/200\n",
            "1148/1148 [==============================] - 2s 2ms/step - loss: 1.7470 - accuracy: 0.3396 - val_loss: 5.9658 - val_accuracy: 0.0804\n",
            "Epoch 134/200\n",
            "1148/1148 [==============================] - 2s 2ms/step - loss: 1.7402 - accuracy: 0.3404 - val_loss: 5.9740 - val_accuracy: 0.0816\n",
            "Epoch 135/200\n",
            "1148/1148 [==============================] - 2s 2ms/step - loss: 1.7325 - accuracy: 0.3396 - val_loss: 5.9675 - val_accuracy: 0.0804\n",
            "Epoch 136/200\n",
            "1148/1148 [==============================] - 2s 2ms/step - loss: 1.7261 - accuracy: 0.3421 - val_loss: 5.9772 - val_accuracy: 0.0828\n",
            "Epoch 137/200\n",
            "1148/1148 [==============================] - 2s 2ms/step - loss: 1.7208 - accuracy: 0.3441 - val_loss: 5.9835 - val_accuracy: 0.0833\n",
            "Epoch 138/200\n",
            "1148/1148 [==============================] - 2s 2ms/step - loss: 1.7134 - accuracy: 0.3431 - val_loss: 5.9920 - val_accuracy: 0.0822\n",
            "Epoch 139/200\n",
            "1148/1148 [==============================] - 2s 2ms/step - loss: 1.7072 - accuracy: 0.3443 - val_loss: 6.0014 - val_accuracy: 0.0816\n",
            "Epoch 140/200\n",
            "1148/1148 [==============================] - 2s 2ms/step - loss: 1.7011 - accuracy: 0.3460 - val_loss: 6.0017 - val_accuracy: 0.0836\n",
            "Epoch 141/200\n",
            "1148/1148 [==============================] - 2s 2ms/step - loss: 1.6933 - accuracy: 0.3455 - val_loss: 6.0142 - val_accuracy: 0.0825\n",
            "Epoch 142/200\n",
            "1148/1148 [==============================] - 2s 2ms/step - loss: 1.6873 - accuracy: 0.3479 - val_loss: 6.0112 - val_accuracy: 0.0796\n",
            "Epoch 143/200\n",
            "1148/1148 [==============================] - 2s 2ms/step - loss: 1.6815 - accuracy: 0.3485 - val_loss: 6.0271 - val_accuracy: 0.0793\n",
            "Epoch 144/200\n",
            "1148/1148 [==============================] - 2s 2ms/step - loss: 1.6798 - accuracy: 0.3471 - val_loss: 6.0437 - val_accuracy: 0.0807\n",
            "Epoch 145/200\n",
            "1148/1148 [==============================] - 2s 2ms/step - loss: 1.6735 - accuracy: 0.3471 - val_loss: 6.0435 - val_accuracy: 0.0828\n",
            "Epoch 146/200\n",
            "1148/1148 [==============================] - 2s 2ms/step - loss: 1.6637 - accuracy: 0.3516 - val_loss: 6.0454 - val_accuracy: 0.0822\n",
            "Epoch 147/200\n",
            "1148/1148 [==============================] - 2s 2ms/step - loss: 1.6584 - accuracy: 0.3505 - val_loss: 6.0517 - val_accuracy: 0.0825\n",
            "Epoch 148/200\n",
            "1148/1148 [==============================] - 2s 2ms/step - loss: 1.6529 - accuracy: 0.3539 - val_loss: 6.0606 - val_accuracy: 0.0799\n",
            "Epoch 149/200\n",
            "1148/1148 [==============================] - 2s 2ms/step - loss: 1.6481 - accuracy: 0.3551 - val_loss: 6.0639 - val_accuracy: 0.0833\n",
            "Epoch 150/200\n",
            "1148/1148 [==============================] - 2s 2ms/step - loss: 1.6421 - accuracy: 0.3557 - val_loss: 6.0727 - val_accuracy: 0.0802\n",
            "Epoch 151/200\n",
            "1148/1148 [==============================] - 2s 2ms/step - loss: 1.6345 - accuracy: 0.3570 - val_loss: 6.0900 - val_accuracy: 0.0810\n",
            "Epoch 152/200\n",
            "1148/1148 [==============================] - 2s 2ms/step - loss: 1.6290 - accuracy: 0.3565 - val_loss: 6.0965 - val_accuracy: 0.0816\n",
            "Epoch 153/200\n",
            "1148/1148 [==============================] - 2s 2ms/step - loss: 1.6217 - accuracy: 0.3579 - val_loss: 6.0968 - val_accuracy: 0.0825\n",
            "Epoch 154/200\n",
            "1148/1148 [==============================] - 2s 2ms/step - loss: 1.6172 - accuracy: 0.3599 - val_loss: 6.1073 - val_accuracy: 0.0816\n",
            "Epoch 155/200\n",
            "1148/1148 [==============================] - 2s 2ms/step - loss: 1.6121 - accuracy: 0.3585 - val_loss: 6.1134 - val_accuracy: 0.0825\n",
            "Epoch 156/200\n",
            "1148/1148 [==============================] - 2s 2ms/step - loss: 1.6084 - accuracy: 0.3598 - val_loss: 6.1222 - val_accuracy: 0.0822\n",
            "Epoch 157/200\n",
            "1148/1148 [==============================] - 2s 2ms/step - loss: 1.6019 - accuracy: 0.3606 - val_loss: 6.1254 - val_accuracy: 0.0822\n",
            "Epoch 158/200\n",
            "1148/1148 [==============================] - 2s 2ms/step - loss: 1.5957 - accuracy: 0.3619 - val_loss: 6.1287 - val_accuracy: 0.0790\n",
            "Epoch 159/200\n",
            "1148/1148 [==============================] - 2s 2ms/step - loss: 1.5926 - accuracy: 0.3634 - val_loss: 6.1378 - val_accuracy: 0.0787\n",
            "Epoch 160/200\n",
            "1148/1148 [==============================] - 2s 2ms/step - loss: 1.5852 - accuracy: 0.3653 - val_loss: 6.1460 - val_accuracy: 0.0784\n",
            "Epoch 161/200\n",
            "1148/1148 [==============================] - 2s 2ms/step - loss: 1.5795 - accuracy: 0.3664 - val_loss: 6.1472 - val_accuracy: 0.0796\n",
            "Epoch 162/200\n",
            "1148/1148 [==============================] - 2s 2ms/step - loss: 1.5754 - accuracy: 0.3661 - val_loss: 6.1652 - val_accuracy: 0.0787\n",
            "Epoch 163/200\n",
            "1148/1148 [==============================] - 2s 2ms/step - loss: 1.5709 - accuracy: 0.3654 - val_loss: 6.1621 - val_accuracy: 0.0790\n",
            "Epoch 164/200\n",
            "1148/1148 [==============================] - 2s 2ms/step - loss: 1.5662 - accuracy: 0.3679 - val_loss: 6.1884 - val_accuracy: 0.0810\n",
            "Epoch 165/200\n",
            "1148/1148 [==============================] - 2s 2ms/step - loss: 1.5622 - accuracy: 0.3677 - val_loss: 6.1756 - val_accuracy: 0.0790\n",
            "Epoch 166/200\n",
            "1148/1148 [==============================] - 2s 2ms/step - loss: 1.5564 - accuracy: 0.3702 - val_loss: 6.1944 - val_accuracy: 0.0802\n",
            "Epoch 167/200\n",
            "1148/1148 [==============================] - 2s 2ms/step - loss: 1.5489 - accuracy: 0.3723 - val_loss: 6.1951 - val_accuracy: 0.0813\n",
            "Epoch 168/200\n",
            "1148/1148 [==============================] - 2s 2ms/step - loss: 1.5465 - accuracy: 0.3710 - val_loss: 6.1953 - val_accuracy: 0.0793\n",
            "Epoch 169/200\n",
            "1148/1148 [==============================] - 2s 2ms/step - loss: 1.5451 - accuracy: 0.3719 - val_loss: 6.2070 - val_accuracy: 0.0804\n",
            "Epoch 170/200\n",
            "1148/1148 [==============================] - 2s 2ms/step - loss: 1.5398 - accuracy: 0.3719 - val_loss: 6.2164 - val_accuracy: 0.0810\n",
            "Epoch 171/200\n",
            "1148/1148 [==============================] - 2s 2ms/step - loss: 1.5383 - accuracy: 0.3715 - val_loss: 6.2194 - val_accuracy: 0.0784\n",
            "Epoch 172/200\n",
            "1148/1148 [==============================] - 2s 2ms/step - loss: 1.5317 - accuracy: 0.3724 - val_loss: 6.2268 - val_accuracy: 0.0793\n",
            "Epoch 173/200\n",
            "1148/1148 [==============================] - 2s 2ms/step - loss: 1.5273 - accuracy: 0.3758 - val_loss: 6.2399 - val_accuracy: 0.0778\n",
            "Epoch 174/200\n",
            "1148/1148 [==============================] - 2s 2ms/step - loss: 1.5229 - accuracy: 0.3736 - val_loss: 6.2316 - val_accuracy: 0.0799\n",
            "Epoch 175/200\n",
            "1148/1148 [==============================] - 2s 2ms/step - loss: 1.5175 - accuracy: 0.3779 - val_loss: 6.2513 - val_accuracy: 0.0796\n",
            "Epoch 176/200\n",
            "1148/1148 [==============================] - 2s 2ms/step - loss: 1.5115 - accuracy: 0.3797 - val_loss: 6.2504 - val_accuracy: 0.0796\n",
            "Epoch 177/200\n",
            "1148/1148 [==============================] - 2s 2ms/step - loss: 1.5046 - accuracy: 0.3789 - val_loss: 6.2623 - val_accuracy: 0.0799\n",
            "Epoch 178/200\n",
            "1148/1148 [==============================] - 2s 2ms/step - loss: 1.4987 - accuracy: 0.3818 - val_loss: 6.2703 - val_accuracy: 0.0807\n",
            "Epoch 179/200\n",
            "1148/1148 [==============================] - 2s 2ms/step - loss: 1.4943 - accuracy: 0.3809 - val_loss: 6.2859 - val_accuracy: 0.0790\n",
            "Epoch 180/200\n",
            "1148/1148 [==============================] - 2s 2ms/step - loss: 1.4911 - accuracy: 0.3831 - val_loss: 6.2754 - val_accuracy: 0.0802\n",
            "Epoch 181/200\n",
            "1148/1148 [==============================] - 2s 2ms/step - loss: 1.4892 - accuracy: 0.3815 - val_loss: 6.2978 - val_accuracy: 0.0799\n",
            "Epoch 182/200\n",
            "1148/1148 [==============================] - 2s 2ms/step - loss: 1.4824 - accuracy: 0.3825 - val_loss: 6.2942 - val_accuracy: 0.0790\n",
            "Epoch 183/200\n",
            "1148/1148 [==============================] - 2s 2ms/step - loss: 1.4766 - accuracy: 0.3860 - val_loss: 6.3046 - val_accuracy: 0.0807\n",
            "Epoch 184/200\n",
            "1148/1148 [==============================] - 2s 2ms/step - loss: 1.4750 - accuracy: 0.3844 - val_loss: 6.3034 - val_accuracy: 0.0802\n",
            "Epoch 185/200\n",
            "1148/1148 [==============================] - 2s 2ms/step - loss: 1.4719 - accuracy: 0.3857 - val_loss: 6.3103 - val_accuracy: 0.0784\n",
            "Epoch 186/200\n",
            "1148/1148 [==============================] - 2s 2ms/step - loss: 1.4657 - accuracy: 0.3856 - val_loss: 6.3199 - val_accuracy: 0.0781\n",
            "Epoch 187/200\n",
            "1148/1148 [==============================] - 2s 2ms/step - loss: 1.4604 - accuracy: 0.3878 - val_loss: 6.3185 - val_accuracy: 0.0796\n",
            "Epoch 188/200\n",
            "1148/1148 [==============================] - 2s 2ms/step - loss: 1.4573 - accuracy: 0.3886 - val_loss: 6.3302 - val_accuracy: 0.0784\n",
            "Epoch 189/200\n",
            "1148/1148 [==============================] - 2s 2ms/step - loss: 1.4491 - accuracy: 0.3903 - val_loss: 6.3295 - val_accuracy: 0.0807\n",
            "Epoch 190/200\n",
            "1148/1148 [==============================] - 2s 2ms/step - loss: 1.4474 - accuracy: 0.3909 - val_loss: 6.3389 - val_accuracy: 0.0784\n",
            "Epoch 191/200\n",
            "1148/1148 [==============================] - 2s 2ms/step - loss: 1.4436 - accuracy: 0.3902 - val_loss: 6.3376 - val_accuracy: 0.0819\n",
            "Epoch 192/200\n",
            "1148/1148 [==============================] - 2s 2ms/step - loss: 1.4396 - accuracy: 0.3923 - val_loss: 6.3454 - val_accuracy: 0.0790\n",
            "Epoch 193/200\n",
            "1148/1148 [==============================] - 2s 2ms/step - loss: 1.4346 - accuracy: 0.3912 - val_loss: 6.3542 - val_accuracy: 0.0784\n",
            "Epoch 194/200\n",
            "1148/1148 [==============================] - 2s 2ms/step - loss: 1.4306 - accuracy: 0.3934 - val_loss: 6.3567 - val_accuracy: 0.0778\n",
            "Epoch 195/200\n",
            "1148/1148 [==============================] - 2s 2ms/step - loss: 1.4246 - accuracy: 0.3937 - val_loss: 6.3640 - val_accuracy: 0.0804\n",
            "Epoch 196/200\n",
            "1148/1148 [==============================] - 2s 2ms/step - loss: 1.4227 - accuracy: 0.3953 - val_loss: 6.3667 - val_accuracy: 0.0784\n",
            "Epoch 197/200\n",
            "1148/1148 [==============================] - 2s 2ms/step - loss: 1.4189 - accuracy: 0.3954 - val_loss: 6.3800 - val_accuracy: 0.0784\n",
            "Epoch 198/200\n",
            "1148/1148 [==============================] - 2s 2ms/step - loss: 1.4180 - accuracy: 0.3976 - val_loss: 6.3711 - val_accuracy: 0.0802\n",
            "Epoch 199/200\n",
            "1148/1148 [==============================] - 2s 2ms/step - loss: 1.4164 - accuracy: 0.3961 - val_loss: 6.3786 - val_accuracy: 0.0784\n",
            "Epoch 200/200\n",
            "1148/1148 [==============================] - 2s 2ms/step - loss: 1.4080 - accuracy: 0.4009 - val_loss: 6.3997 - val_accuracy: 0.0787\n"
          ],
          "name": "stdout"
        }
      ]
    },
    {
      "cell_type": "markdown",
      "metadata": {
        "id": "EdjsrsLeJzdL",
        "colab_type": "text"
      },
      "source": [
        "Plotting the accuracy and loss curve"
      ]
    },
    {
      "cell_type": "markdown",
      "metadata": {
        "id": "MvoROL3RL6e8",
        "colab_type": "text"
      },
      "source": [
        "As it is poetry so predicting the correct next word will always be hard here so accuracy will be impacted by this much"
      ]
    },
    {
      "cell_type": "code",
      "metadata": {
        "id": "4I0ycbzVJww-",
        "colab_type": "code",
        "outputId": "1884296c-443e-49b8-b365-6ab78989c378",
        "colab": {
          "base_uri": "https://localhost:8080/",
          "height": 265
        }
      },
      "source": [
        "plt.plot(ht.history[\"loss\"],label = \"loss\")\n",
        "plt.plot(ht.history[\"val_loss\"],label = \"val_loss\")\n",
        "plt.legend()\n",
        "plt.show()"
      ],
      "execution_count": 18,
      "outputs": [
        {
          "output_type": "display_data",
          "data": {
            "image/png": "[encoded data removed]",
            "text/plain": [
              "<Figure size 432x288 with 1 Axes>"
            ]
          },
          "metadata": {
            "tags": [],
            "needs_background": "light"
          }
        }
      ]
    },
    {
      "cell_type": "code",
      "metadata": {
        "id": "mG3nVqDBKa4R",
        "colab_type": "code",
        "outputId": "54c93401-5ebf-434d-bc4f-d149473a84b8",
        "colab": {
          "base_uri": "https://localhost:8080/",
          "height": 265
        }
      },
      "source": [
        "plt.plot(ht.history[\"accuracy\"],label = \"accuracy\")\n",
        "plt.plot(ht.history[\"val_accuracy\"],label = \"validation_accuracy\")\n",
        "plt.legend()\n",
        "plt.show()"
      ],
      "execution_count": 19,
      "outputs": [
        {
          "output_type": "display_data",
          "data": {
            "image/png": "[encoded data removed]",
            "text/plain": [
              "<Figure size 432x288 with 1 Axes>"
            ]
          },
          "metadata": {
            "tags": [],
            "needs_background": "light"
          }
        }
      ]
    },
    {
      "cell_type": "code",
      "metadata": {
        "id": "sq6BP4f7Kot1",
        "colab_type": "code",
        "colab": {}
      },
      "source": [
        "model.save(\"model_gen.h5\")"
      ],
      "execution_count": 0,
      "outputs": []
    },
    {
      "cell_type": "markdown",
      "metadata": {
        "id": "ZxBQWLbuh8DX",
        "colab_type": "text"
      },
      "source": [
        "Here what is happening is we are feding a input sentence and we are getting back the prediction for the next word all at same time and basically what we need is to make a model where we will feed a word at a time and will get prediction for it and then will feed the predicted word to get the new prediction of the next word and so on"
      ]
    },
    {
      "cell_type": "markdown",
      "metadata": {
        "id": "Y83xM_glh_QX",
        "colab_type": "text"
      },
      "source": [
        "Now we will build a model to which we will give a shape of 1 as input"
      ]
    },
    {
      "cell_type": "code",
      "metadata": {
        "id": "146DvvWuh-dX",
        "colab_type": "code",
        "colab": {}
      },
      "source": [
        "input1 = Input(shape = (1,))\n",
        "x = embedding_layer(input1)\n",
        "x,h,c = lstm(x,[initial_h,initial_c])\n",
        "output1 = dense(x)\n",
        "model_x = Model([input1,initial_h,initial_c],[output1,h,c])"
      ],
      "execution_count": 0,
      "outputs": []
    },
    {
      "cell_type": "code",
      "metadata": {
        "id": "FCJAhMtLk6OU",
        "colab_type": "code",
        "colab": {}
      },
      "source": [
        "#Reversing the word2idx dictionary\n",
        "idx2word = {v:k for k,v in word2idx.items()}"
      ],
      "execution_count": 0,
      "outputs": []
    },
    {
      "cell_type": "code",
      "metadata": {
        "id": "qA30kSMDlNZ6",
        "colab_type": "code",
        "colab": {}
      },
      "source": [
        "#THis sample line function gonna generate one line of output\n",
        "def sample_line():\n",
        "  #Defining the initial inputs\n",
        "  #Initial word from starting will be the start of sentence token and initial cell state and initail hidden state will be vector of zeros\n",
        "  np_input = np.array([[word2idx[\"<sos>\"]]])\n",
        "  h = np.zeros((1,M))\n",
        "  c = np.zeros((1,M))\n",
        "  eos = word2idx[\"<eos>\"]\n",
        "  #At each step after predicting the first word what we gonna do is input the current cell state and the hidden state from previous stamp\n",
        "  #We will be storing the generate output sentences in outputs vector\n",
        "  outputs = []\n",
        "  for _ in range(max_sequence_length):\n",
        "    #o is list of probablities for the next word\n",
        "    o, h, c = model_x.predict([np_input,h,c])\n",
        "    #It is very much possible to get a very high probablity for index 0 which generally doesn't correspond to any word\n",
        "    probs = o[0,0]\n",
        "    if np.argmax(probs) == 0:\n",
        "      print(\"##\")\n",
        "    probs[0] = 0\n",
        "    probs /= probs.sum()\n",
        "    #Sampling the next word randomly\n",
        "    idx = np.random.choice(len(probs),p=probs)\n",
        "    if idx == eos:\n",
        "      break\n",
        "    #Output\n",
        "    outputs.append(idx2word.get(idx,\"<## %s>\"%idx))\n",
        "    #Next input the model will be the word predicted\n",
        "    np_input[0,0] = idx\n",
        "  return \" \".join(outputs)"
      ],
      "execution_count": 0,
      "outputs": []
    },
    {
      "cell_type": "code",
      "metadata": {
        "id": "oy0uMu7qoIhA",
        "colab_type": "code",
        "colab": {
          "base_uri": "https://localhost:8080/",
          "height": 476
        },
        "outputId": "c5de2161-2c2a-4783-b7b2-08a6ed65ed3c"
      },
      "source": [
        "while True:\n",
        "  #As we 4 line perverse in poetry so we will be generating 4 line at a time\n",
        "  for _ in range(4):\n",
        "    print(sample_line())\n",
        "  \n",
        "  ans = input(\"ppf generate another \")\n",
        "  if ans and ans[0].lower().startswith(\"n\"):\n",
        "    break"
      ],
      "execution_count": 24,
      "outputs": [
        {
          "output_type": "stream",
          "text": [
            "now lupine ears settlement?\n",
            "i see what they creaking i fade,\n",
            "but smith, or someone, called them straight away\n",
            "anyone else, but out of every emptied double trouble's\n",
            "ppf generate another y\n",
            "though not a grave down in trees and wet,\n",
            "two standing to mind\n",
            "to like the night all fresh\n",
            "the only get they say had gone before i've brought you to\n",
            "ppf generate another y\n",
            "ppf generate another \n",
            "moisture and still be undone,\n",
            "from that would have shifted has familiar spirits\n",
            "if i mistrusted he found on the whole thing i stand together\n",
            "'i only bewitched so mormon swimming or three?'\n",
            "'i'm aftermath,\n",
            "by picking the way of the cellar forty years ago as that?'\n",
            "in garden upstairs in meeting of oil of make-believe,\n",
            "what i see what they sometimes because to shelter alone he snapped\n",
            "ppf generate another y\n",
            "and scuttled just as well withdrawing laces\n",
            "moisture and hold the ideals,\n",
            "'i can help it.\n",
            "good-looking books like that.' he was petered out,\n",
            "ppf generate another n\n"
          ],
          "name": "stdout"
        }
      ]
    },
    {
      "cell_type": "markdown",
      "metadata": {
        "id": "AA74aOQayEzp",
        "colab_type": "text"
      },
      "source": [
        "The issue of accuracy is because the task is poetry generation and predicting next word in poetry is pretty difficult even for humans reading some previous poetry so same happens with algorithm"
      ]
    },
    {
      "cell_type": "code",
      "metadata": {
        "id": "-T2r75q3vr-i",
        "colab_type": "code",
        "colab": {}
      },
      "source": [
        ""
      ],
      "execution_count": 0,
      "outputs": []
    }
  ]
}